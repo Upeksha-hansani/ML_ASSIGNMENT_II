{
  "cells": [
    {
      "cell_type": "code",
      "execution_count": null,
      "metadata": {
        "id": "_-34Ng2-u7b7",
        "collapsed": true
      },
      "outputs": [],
      "source": [
        "from tensorflow.compat.v1 import ConfigProto\n",
        "from tensorflow.compat.v1 import InteractiveSession\n",
        "\n",
        "config = ConfigProto()\n",
        "config.gpu_options.per_process_gpu_memory_fraction = 0.5\n",
        "config.gpu_options.allow_growth = True\n",
        "session = InteractiveSession(config=config)"
      ]
    },
    {
      "cell_type": "code",
      "execution_count": null,
      "metadata": {
        "id": "PAK_LQdGD23K"
      },
      "outputs": [],
      "source": [
        "from google.colab import drive\n",
        "drive.mount('/content/drive')"
      ]
    },
    {
      "cell_type": "code",
      "execution_count": null,
      "metadata": {
        "id": "4mGv0Cz9VdoW"
      },
      "outputs": [],
      "source": [
        "from tensorflow.keras.layers import Input, Lambda, Dense, Flatten\n",
        "from tensorflow.keras.models import Model\n",
        "from tensorflow.keras.applications.vgg16 import VGG16\n",
        "from tensorflow.keras.applications.vgg16 import preprocess_input\n",
        "from tensorflow.keras.preprocessing import image\n",
        "from tensorflow.keras.preprocessing.image import ImageDataGenerator,load_img\n",
        "from tensorflow.keras.models import Sequential\n",
        "import numpy as np\n",
        "from glob import glob\n",
        "import matplotlib.pyplot as plt"
      ]
    },
    {
      "cell_type": "code",
      "execution_count": null,
      "metadata": {
        "id": "cWUu_vFrkSZi"
      },
      "outputs": [],
      "source": [
        "IMAGE_SIZE = [224, 224]\n",
        "\n",
        "train_path = '/content/drive/MyDrive/Msc/Semester 03/ML/Assignment 2/Final dataset/train'\n",
        "valid_path = '/content/drive/MyDrive/Msc/Semester 03/ML/Assignment 2/Final dataset/test'"
      ]
    },
    {
      "cell_type": "code",
      "execution_count": null,
      "metadata": {
        "id": "OHNhHJmrkgxo"
      },
      "outputs": [],
      "source": [
        "VGG16 = VGG16(input_shape=IMAGE_SIZE + [3], weights='imagenet', include_top=False)"
      ]
    },
    {
      "cell_type": "code",
      "execution_count": null,
      "metadata": {
        "id": "EO8scRb5lKwF"
      },
      "outputs": [],
      "source": [
        "for layer in VGG16.layers:\n",
        "    layer.trainable = False"
      ]
    },
    {
      "cell_type": "code",
      "execution_count": null,
      "metadata": {
        "id": "WXQvKekplS64"
      },
      "outputs": [],
      "source": [
        "folders = glob('/content/drive/MyDrive/Msc/Semester 03/ML/Assignment 2/Final dataset/train/*')"
      ]
    },
    {
      "cell_type": "code",
      "execution_count": null,
      "metadata": {
        "id": "OFmu2ZDjlaH1",
        "colab": {
          "base_uri": "https://localhost:8080/"
        },
        "outputId": "86e75d27-726b-44fb-f0ad-cebe9cb1d938",
        "collapsed": true
      },
      "outputs": [
        {
          "output_type": "execute_result",
          "data": {
            "text/plain": [
              "['/content/drive/MyDrive/Group 13 -  Final Year Project 2021 - FOT/dataset/Final dataset/train/hedella',\n",
              " '/content/drive/MyDrive/Group 13 -  Final Year Project 2021 - FOT/dataset/Final dataset/train/gojari',\n",
              " '/content/drive/MyDrive/Group 13 -  Final Year Project 2021 - FOT/dataset/Final dataset/train/jabara',\n",
              " '/content/drive/MyDrive/Group 13 -  Final Year Project 2021 - FOT/dataset/Final dataset/train/pethipala',\n",
              " '/content/drive/MyDrive/Group 13 -  Final Year Project 2021 - FOT/dataset/Final dataset/train/wel gahala',\n",
              " '/content/drive/MyDrive/Group 13 -  Final Year Project 2021 - FOT/dataset/Final dataset/train/girapala']"
            ]
          },
          "metadata": {},
          "execution_count": 35
        }
      ],
      "source": [
        "folders"
      ]
    },
    {
      "cell_type": "code",
      "execution_count": null,
      "metadata": {
        "id": "yXXziIa0lfX1"
      },
      "outputs": [],
      "source": [
        "x = Flatten()(VGG16.output)"
      ]
    },
    {
      "cell_type": "code",
      "execution_count": null,
      "metadata": {
        "id": "pdix7SCelnEm"
      },
      "outputs": [],
      "source": [
        "prediction = Dense(len(folders), activation='softmax')(x)\n",
        "\n",
        "model = Model(inputs=VGG16.input, outputs=prediction)"
      ]
    },
    {
      "cell_type": "code",
      "execution_count": null,
      "metadata": {
        "id": "3LKzXRCVlwp6",
        "colab": {
          "base_uri": "https://localhost:8080/"
        },
        "outputId": "0fe4ef69-5609-4130-f704-deab1528bf1d"
      },
      "outputs": [
        {
          "output_type": "stream",
          "name": "stdout",
          "text": [
            "Model: \"model_1\"\n",
            "_________________________________________________________________\n",
            " Layer (type)                Output Shape              Param #   \n",
            "=================================================================\n",
            " input_2 (InputLayer)        [(None, 224, 224, 3)]     0         \n",
            "                                                                 \n",
            " block1_conv1 (Conv2D)       (None, 224, 224, 64)      1792      \n",
            "                                                                 \n",
            " block1_conv2 (Conv2D)       (None, 224, 224, 64)      36928     \n",
            "                                                                 \n",
            " block1_pool (MaxPooling2D)  (None, 112, 112, 64)      0         \n",
            "                                                                 \n",
            " block2_conv1 (Conv2D)       (None, 112, 112, 128)     73856     \n",
            "                                                                 \n",
            " block2_conv2 (Conv2D)       (None, 112, 112, 128)     147584    \n",
            "                                                                 \n",
            " block2_pool (MaxPooling2D)  (None, 56, 56, 128)       0         \n",
            "                                                                 \n",
            " block3_conv1 (Conv2D)       (None, 56, 56, 256)       295168    \n",
            "                                                                 \n",
            " block3_conv2 (Conv2D)       (None, 56, 56, 256)       590080    \n",
            "                                                                 \n",
            " block3_conv3 (Conv2D)       (None, 56, 56, 256)       590080    \n",
            "                                                                 \n",
            " block3_pool (MaxPooling2D)  (None, 28, 28, 256)       0         \n",
            "                                                                 \n",
            " block4_conv1 (Conv2D)       (None, 28, 28, 512)       1180160   \n",
            "                                                                 \n",
            " block4_conv2 (Conv2D)       (None, 28, 28, 512)       2359808   \n",
            "                                                                 \n",
            " block4_conv3 (Conv2D)       (None, 28, 28, 512)       2359808   \n",
            "                                                                 \n",
            " block4_pool (MaxPooling2D)  (None, 14, 14, 512)       0         \n",
            "                                                                 \n",
            " block5_conv1 (Conv2D)       (None, 14, 14, 512)       2359808   \n",
            "                                                                 \n",
            " block5_conv2 (Conv2D)       (None, 14, 14, 512)       2359808   \n",
            "                                                                 \n",
            " block5_conv3 (Conv2D)       (None, 14, 14, 512)       2359808   \n",
            "                                                                 \n",
            " block5_pool (MaxPooling2D)  (None, 7, 7, 512)         0         \n",
            "                                                                 \n",
            " flatten_1 (Flatten)         (None, 25088)             0         \n",
            "                                                                 \n",
            " dense_1 (Dense)             (None, 6)                 150534    \n",
            "                                                                 \n",
            "=================================================================\n",
            "Total params: 14,865,222\n",
            "Trainable params: 150,534\n",
            "Non-trainable params: 14,714,688\n",
            "_________________________________________________________________\n"
          ]
        }
      ],
      "source": [
        "model.summary()"
      ]
    },
    {
      "cell_type": "code",
      "execution_count": null,
      "metadata": {
        "id": "DWWP_esal7Ge"
      },
      "outputs": [],
      "source": [
        "model.compile(\n",
        "  loss='categorical_crossentropy',\n",
        "  optimizer='adam',\n",
        "  metrics=['accuracy']\n",
        ")"
      ]
    },
    {
      "cell_type": "code",
      "execution_count": null,
      "metadata": {
        "id": "5VILMD-nmOu1"
      },
      "outputs": [],
      "source": [
        "from tensorflow.keras.preprocessing.image import ImageDataGenerator\n",
        "\n",
        "train_datagen = ImageDataGenerator(rescale = 1./255,\n",
        "                                   shear_range = 0.2,\n",
        "                                   zoom_range = 0.2,\n",
        "                                   horizontal_flip = True)\n",
        "\n",
        "test_datagen = ImageDataGenerator(rescale = 1./255)"
      ]
    },
    {
      "cell_type": "markdown",
      "source": [],
      "metadata": {
        "id": "2XgHta7bYmtZ"
      }
    },
    {
      "cell_type": "code",
      "execution_count": null,
      "metadata": {
        "id": "mMVXD55QmQvc",
        "colab": {
          "base_uri": "https://localhost:8080/"
        },
        "outputId": "a782f9c3-23a9-4d47-e7c6-5f04d719fd8b"
      },
      "outputs": [
        {
          "output_type": "stream",
          "name": "stdout",
          "text": [
            "Found 952 images belonging to 6 classes.\n"
          ]
        }
      ],
      "source": [
        "training_set = train_datagen.flow_from_directory('/content/drive/MyDrive/Msc/Semester 03/ML/Assignment 2/Final dataset/train',\n",
        "                                                 target_size = (224, 224),\n",
        "                                                 batch_size = 32,\n",
        "                                                 class_mode = 'categorical')"
      ]
    },
    {
      "cell_type": "code",
      "execution_count": null,
      "metadata": {
        "id": "mMEBroYWmeBQ",
        "colab": {
          "base_uri": "https://localhost:8080/"
        },
        "outputId": "4d3cf849-587f-48bd-a0bc-e0417d914b91"
      },
      "outputs": [
        {
          "output_type": "stream",
          "name": "stdout",
          "text": [
            "Found 147 images belonging to 6 classes.\n"
          ]
        }
      ],
      "source": [
        "test_set = test_datagen.flow_from_directory('/content/drive/MyDrive/Msc/Semester 03/ML/Assignment 2/Final dataset/test',\n",
        "                                            target_size = (224, 224),\n",
        "                                            batch_size = 32,\n",
        "                                            class_mode = 'categorical')"
      ]
    },
    {
      "cell_type": "code",
      "execution_count": null,
      "metadata": {
        "id": "7B1n8o_qmlXF",
        "colab": {
          "base_uri": "https://localhost:8080/"
        },
        "outputId": "b51b4a13-4078-4b1e-910e-e7298d3782a8"
      },
      "outputs": [
        {
          "output_type": "stream",
          "name": "stderr",
          "text": [
            "/usr/local/lib/python3.7/dist-packages/ipykernel_launcher.py:6: UserWarning: `Model.fit_generator` is deprecated and will be removed in a future version. Please use `Model.fit`, which supports generators.\n",
            "  \n"
          ]
        },
        {
          "output_type": "stream",
          "name": "stdout",
          "text": [
            "Epoch 1/15\n",
            "30/30 [==============================] - 38s 1s/step - loss: 0.8279 - accuracy: 0.7353 - val_loss: 0.2132 - val_accuracy: 0.9252\n",
            "Epoch 2/15\n",
            "30/30 [==============================] - 14s 448ms/step - loss: 0.1184 - accuracy: 0.9548 - val_loss: 0.0921 - val_accuracy: 0.9728\n",
            "Epoch 3/15\n",
            "30/30 [==============================] - 14s 451ms/step - loss: 0.0525 - accuracy: 0.9874 - val_loss: 0.0589 - val_accuracy: 0.9796\n",
            "Epoch 4/15\n",
            "30/30 [==============================] - 13s 443ms/step - loss: 0.0374 - accuracy: 0.9937 - val_loss: 0.0925 - val_accuracy: 0.9728\n",
            "Epoch 5/15\n",
            "30/30 [==============================] - 13s 446ms/step - loss: 0.0259 - accuracy: 0.9947 - val_loss: 0.0456 - val_accuracy: 0.9796\n",
            "Epoch 6/15\n",
            "30/30 [==============================] - 13s 450ms/step - loss: 0.0185 - accuracy: 0.9989 - val_loss: 0.0654 - val_accuracy: 0.9660\n",
            "Epoch 7/15\n",
            "30/30 [==============================] - 13s 445ms/step - loss: 0.0141 - accuracy: 1.0000 - val_loss: 0.0805 - val_accuracy: 0.9728\n",
            "Epoch 8/15\n",
            "30/30 [==============================] - 14s 450ms/step - loss: 0.0111 - accuracy: 1.0000 - val_loss: 0.0760 - val_accuracy: 0.9728\n",
            "Epoch 9/15\n",
            "30/30 [==============================] - 13s 447ms/step - loss: 0.0083 - accuracy: 1.0000 - val_loss: 0.0530 - val_accuracy: 0.9796\n",
            "Epoch 10/15\n",
            "30/30 [==============================] - 14s 448ms/step - loss: 0.0084 - accuracy: 1.0000 - val_loss: 0.0560 - val_accuracy: 0.9660\n",
            "Epoch 11/15\n",
            "30/30 [==============================] - 13s 447ms/step - loss: 0.0069 - accuracy: 1.0000 - val_loss: 0.0409 - val_accuracy: 0.9796\n",
            "Epoch 12/15\n",
            "30/30 [==============================] - 14s 458ms/step - loss: 0.0063 - accuracy: 1.0000 - val_loss: 0.0593 - val_accuracy: 0.9660\n",
            "Epoch 13/15\n",
            "30/30 [==============================] - 14s 458ms/step - loss: 0.0060 - accuracy: 1.0000 - val_loss: 0.0515 - val_accuracy: 0.9728\n",
            "Epoch 14/15\n",
            "30/30 [==============================] - 14s 446ms/step - loss: 0.0065 - accuracy: 1.0000 - val_loss: 0.0641 - val_accuracy: 0.9728\n",
            "Epoch 15/15\n",
            "30/30 [==============================] - 13s 445ms/step - loss: 0.0045 - accuracy: 1.0000 - val_loss: 0.0590 - val_accuracy: 0.9728\n"
          ]
        }
      ],
      "source": [
        "r = model.fit_generator(\n",
        "  training_set,\n",
        "  validation_data=test_set,\n",
        "  epochs=15,\n",
        "  steps_per_epoch=len(training_set),\n",
        "  validation_steps=len(test_set)\n",
        ")"
      ]
    },
    {
      "cell_type": "code",
      "execution_count": null,
      "metadata": {
        "id": "TdgVOdwcnB33",
        "colab": {
          "base_uri": "https://localhost:8080/",
          "height": 312
        },
        "outputId": "47f38dfd-261f-4fba-b56c-da9fc014c7a6"
      },
      "outputs": [
        {
          "output_type": "display_data",
          "data": {
            "text/plain": [
              "<Figure size 432x288 with 1 Axes>"
            ],
            "image/png": "[encoded data removed]"
          },
          "metadata": {
            "needs_background": "light"
          }
        },
        {
          "output_type": "display_data",
          "data": {
            "text/plain": [
              "<Figure size 432x288 with 0 Axes>"
            ]
          },
          "metadata": {}
        }
      ],
      "source": [
        "plt.plot(r.history['loss'], label='train loss')\n",
        "plt.plot(r.history['val_loss'], label='val loss')\n",
        "plt.title(\"Model loss\")\n",
        "plt.legend()\n",
        "plt.ylabel(\"loss\")\n",
        "plt.xlabel(\"epoch\")\n",
        "plt.show()\n",
        "plt.savefig('/content/drive/MyDrive/content/drive/MyDrive/Msc/Semester 03/ML/Assignment 2/VGG16/LossVal_loss')"
      ]
    },
    {
      "cell_type": "code",
      "execution_count": null,
      "metadata": {
        "id": "JddfpHzqnaSe",
        "colab": {
          "base_uri": "https://localhost:8080/",
          "height": 312
        },
        "outputId": "ac30254c-f49b-43bd-ef0a-dcf5df0c0357"
      },
      "outputs": [
        {
          "output_type": "display_data",
          "data": {
            "text/plain": [
              "<Figure size 432x288 with 1 Axes>"
            ],
            "image/png": "[encoded data removed]"
          },
          "metadata": {
            "needs_background": "light"
          }
        },
        {
          "output_type": "display_data",
          "data": {
            "text/plain": [
              "<Figure size 432x288 with 0 Axes>"
            ]
          },
          "metadata": {}
        }
      ],
      "source": [
        "plt.plot(r.history['accuracy'], label='train acc')\n",
        "plt.plot(r.history['val_accuracy'], label='val acc')\n",
        "plt.title(\"Model accuracy\")\n",
        "plt.legend()\n",
        "plt.ylabel(\"accuracy\")\n",
        "plt.xlabel(\"epoch\")\n",
        "plt.show()\n",
        "plt.savefig('/content/drive/MyDrive/content/drive/MyDrive/Msc/Semester 03/ML/Assignment 2/VGG16/LossVal_loss')"
      ]
    },
    {
      "cell_type": "code",
      "execution_count": null,
      "metadata": {
        "id": "tkUS1ajgnldd"
      },
      "outputs": [],
      "source": [
        "from tensorflow.keras.models import load_model\n",
        "\n",
        "model.save('/content/drive/MyDrive/content/drive/MyDrive/Msc/Semester 03/ML/Assignment 2/VGG16/model_VGG16.h5')"
      ]
    },
    {
      "cell_type": "code",
      "source": [
        "import tensorflow_datasets as tfds\n",
        "import tensorflow as tf\n",
        "from tensorflow.keras.utils import to_categorical\n",
        "from tensorflow.keras.callbacks import EarlyStopping\n",
        "import pickle\n",
        "from keras.preprocessing.image import load_img\n",
        "from keras.preprocessing.image import img_to_array"
      ],
      "metadata": {
        "id": "jOZSYXBcjrPJ"
      },
      "execution_count": null,
      "outputs": []
    },
    {
      "cell_type": "code",
      "source": [
        "img_path = '/content/drive/MyDrive/content/drive/MyDrive/Msc/Semester 03/ML/Assignment 2/Final dataset/test/gojari/20211118_153750.jpg'\n",
        "image = load_img(img_path, target_size=(224, 224))"
      ],
      "metadata": {
        "id": "bqjGlM_5cO8y"
      },
      "execution_count": null,
      "outputs": []
    },
    {
      "cell_type": "code",
      "source": [
        "image = img_to_array(image)\n",
        "image = image.reshape((1, image.shape[0], image.shape[1], image.shape[2]))"
      ],
      "metadata": {
        "id": "cyjEFOYbcPzE"
      },
      "execution_count": null,
      "outputs": []
    },
    {
      "cell_type": "code",
      "source": [
        "categories = ['girapala','gojari', 'hedella', 'jabara','pethipala',\"wel gahala\"]"
      ],
      "metadata": {
        "id": "Np6qh4WElUbF"
      },
      "execution_count": null,
      "outputs": []
    },
    {
      "cell_type": "code",
      "source": [
        "predict_prob = model.predict(image)\n",
        "print(categories[np.argmax(predict_prob)])"
      ],
      "metadata": {
        "id": "Byc1Nv_3cP_0",
        "colab": {
          "base_uri": "https://localhost:8080/"
        },
        "outputId": "64a4f0ff-28c7-4e1b-d262-6cf64ca886f2"
      },
      "execution_count": null,
      "outputs": [
        {
          "output_type": "stream",
          "name": "stdout",
          "text": [
            "gojari\n"
          ]
        }
      ]
    }
  ],
  "metadata": {
    "accelerator": "GPU",
    "colab": {
      "provenance": []
    },
    "kernelspec": {
      "display_name": "Python 3",
      "name": "python3"
    },
    "language_info": {
      "name": "python"
    }
  },
  "nbformat": 4,
  "nbformat_minor": 0
}